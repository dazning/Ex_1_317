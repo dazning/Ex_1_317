{
  "nbformat": 4,
  "nbformat_minor": 0,
  "metadata": {
    "colab": {
      "provenance": []
    },
    "kernelspec": {
      "name": "python3",
      "display_name": "Python 3"
    },
    "language_info": {
      "name": "python"
    }
  },
  "cells": [
    {
      "cell_type": "code",
      "execution_count": 4,
      "metadata": {
        "colab": {
          "base_uri": "https://localhost:8080/"
        },
        "id": "p1T-VpWojBN5",
        "outputId": "e629148c-c8c4-49e6-8e1a-8a24b33c7512"
      },
      "outputs": [
        {
          "output_type": "stream",
          "name": "stdout",
          "text": [
            "Ingresa una palabra: oruro\n",
            "La palabra oruro  es un palindromo\n"
          ]
        }
      ],
      "source": [
        "# importamos la librería multiprocessing\n",
        "import multiprocessing\n",
        "\n",
        "# definimos una función que recibe una palabra y devuelve True si es un palíndromo, y False si no lo es\n",
        "def is_palindrome(word):\n",
        "    return word == word[::-1]\n",
        "\n",
        "# si el archivo se está ejecutando directamente y no se está importando como un módulo, se corre este código\n",
        "if __name__ == '__main__':\n",
        "    # pedimos al usuario que ingrese una palabra\n",
        "    word = input(\"Ingresa una palabra: \")\n",
        "    # creamos un pool de procesos con una sola tarea\n",
        "    pool = multiprocessing.Pool(processes=1)\n",
        "    # llamamos a la función is_palindrome() en otro proceso, pasándole la palabra ingresada por el usuario como argumento\n",
        "    result = pool.apply_async(is_palindrome, (word,))\n",
        "    # imprimimos el resultado\n",
        "    print(f\"La palabra {word} {' es un palindromo' if result.get() else 'no es un palindromo'}\")\n"
      ]
    }
  ]
}